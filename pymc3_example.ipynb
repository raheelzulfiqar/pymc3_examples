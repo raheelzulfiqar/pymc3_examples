{
 "cells": [
  {
   "cell_type": "code",
   "execution_count": 7,
   "metadata": {},
   "outputs": [],
   "source": [
    "import numpy as np\n",
    "import matplotlib.pyplot as plt\n",
    "\n",
    "plt.style.use('seaborn-deep')\n",
    "\n",
    "# Initialize random number generator\n",
    "np.random.seed(10)\n",
    "\n",
    "# True parameter values\n",
    "alpha_true, sigma = 1, 1\n",
    "beta_true = 2.5 \n",
    "\n",
    "# Size of dataset\n",
    "size = 100\n",
    "\n",
    "# Predictor variable\n",
    "X1 = np.random.randn(size) + 3\n",
    "\n",
    "# Simulate outcome variable\n",
    "Y = alpha_true + beta_true*X1 + np.random.randn(size)*sigma"
   ]
  },
  {
   "cell_type": "code",
   "execution_count": 8,
   "metadata": {},
   "outputs": [
    {
     "data": {
      "image/png": "[encoded data removed]",
      "text/plain": [
       "<Figure size 720x720 with 1 Axes>"
      ]
     },
     "metadata": {
      "needs_background": "light"
     },
     "output_type": "display_data"
    }
   ],
   "source": [
    "fig, axes = plt.subplots(figsize=(10, 10))\n",
    "\n",
    "x_true = np.linspace(0, 7, size)\n",
    "y_true = alpha_true + beta_true*x_true\n",
    "\n",
    "axes.plot(x_true, y_true, 'r--')\n",
    "\n",
    "axes.scatter(X1, Y)\n",
    "axes.set_ylabel('Y'); axes.set_xlabel('X1');"
   ]
  },
  {
   "cell_type": "code",
   "execution_count": 9,
   "metadata": {},
   "outputs": [],
   "source": [
    "# If you do not have pymc3 already installed uncomment line below and run cell\n",
    "# !conda install -c conda-forge pymc3"
   ]
  },
  {
   "cell_type": "code",
   "execution_count": 6,
   "metadata": {},
   "outputs": [
    {
     "name": "stdout",
     "output_type": "stream",
     "text": [
      "Requirement already satisfied: pymc3 in c:\\users\\raheel zulfiqar\\anaconda3\\lib\\site-packages (3.7)\n",
      "Requirement already satisfied: theano>=1.0.4 in c:\\users\\raheel zulfiqar\\anaconda3\\lib\\site-packages (from pymc3) (1.0.4)\n",
      "Requirement already satisfied: pandas>=0.18.0 in c:\\users\\raheel zulfiqar\\anaconda3\\lib\\site-packages (from pymc3) (0.24.2)\n",
      "Requirement already satisfied: scipy>=0.18.1 in c:\\users\\raheel zulfiqar\\anaconda3\\lib\\site-packages (from pymc3) (1.2.1)\n",
      "Requirement already satisfied: tqdm>=4.8.4 in c:\\users\\raheel zulfiqar\\anaconda3\\lib\\site-packages (from pymc3) (4.32.1)\n",
      "Requirement already satisfied: patsy>=0.4.0 in c:\\users\\raheel zulfiqar\\anaconda3\\lib\\site-packages (from pymc3) (0.5.1)\n",
      "Requirement already satisfied: h5py>=2.7.0 in c:\\users\\raheel zulfiqar\\anaconda3\\lib\\site-packages (from pymc3) (2.9.0)\n",
      "Requirement already satisfied: numpy>=1.13.0 in c:\\users\\raheel zulfiqar\\anaconda3\\lib\\site-packages (from pymc3) (1.16.4)\n",
      "Requirement already satisfied: six>=1.9.0 in c:\\users\\raheel zulfiqar\\anaconda3\\lib\\site-packages (from theano>=1.0.4->pymc3) (1.12.0)\n",
      "Requirement already satisfied: pytz>=2011k in c:\\users\\raheel zulfiqar\\anaconda3\\lib\\site-packages (from pandas>=0.18.0->pymc3) (2019.1)\n",
      "Requirement already satisfied: python-dateutil>=2.5.0 in c:\\users\\raheel zulfiqar\\anaconda3\\lib\\site-packages (from pandas>=0.18.0->pymc3) (2.8.0)\n"
     ]
    }
   ],
   "source": [
    "!pip install pymc3\n"
   ]
  },
  {
   "cell_type": "code",
   "execution_count": 10,
   "metadata": {},
   "outputs": [
    {
     "name": "stderr",
     "output_type": "stream",
     "text": [
      "WARNING (theano.configdefaults): g++ not available, if using conda: `conda install m2w64-toolchain`\n",
      "C:\\Users\\raheel zulfiqar\\Anaconda3\\lib\\site-packages\\theano\\configdefaults.py:560: UserWarning: DeprecationWarning: there is no c++ compiler.This is deprecated and with Theano 0.11 a c++ compiler will be mandatory\n",
      "  warnings.warn(\"DeprecationWarning: there is no c++ compiler.\"\n",
      "WARNING (theano.configdefaults): g++ not detected ! Theano will be unable to execute optimized C-implementations (for both CPU and GPU) and will default to Python implementations. Performance will be severely degraded. To remove this warning, set Theano flags cxx to an empty string.\n",
      "WARNING (theano.tensor.blas): Using NumPy C-API based implementation for BLAS functions.\n"
     ]
    },
    {
     "name": "stdout",
     "output_type": "stream",
     "text": [
      "Running on PyMC3 v3.7\n"
     ]
    }
   ],
   "source": [
    "import pymc3 as pm\n",
    "\n",
    "print('Running on PyMC3 v{}'.format(pm.__version__))"
   ]
  },
  {
   "cell_type": "code",
   "execution_count": 11,
   "metadata": {},
   "outputs": [],
   "source": [
    "basic_model = pm.Model()\n",
    "\n",
    "with basic_model:\n",
    "\n",
    "    # Priors for unknown model parameters\n",
    "    alpha = pm.Normal('alpha', mu=0, sigma=10)\n",
    "    beta = pm.Normal('beta', mu=0, sigma=10)\n",
    "    sigma = pm.HalfNormal('sigma', sigma=1)\n",
    "\n",
    "    # Expected value of outcome\n",
    "    mu = alpha + beta*X1\n",
    "\n",
    "    # Likelihood (sampling distribution) of observations\n",
    "    Y_obs = pm.Normal('Y_obs', mu=mu, sigma=sigma, observed=Y)"
   ]
  },
  {
   "cell_type": "code",
   "execution_count": null,
   "metadata": {},
   "outputs": [
    {
     "name": "stderr",
     "output_type": "stream",
     "text": [
      "Auto-assigning NUTS sampler...\n",
      "Initializing NUTS using jitter+adapt_diag...\n",
      "Multiprocess sampling (4 chains in 4 jobs)\n",
      "NUTS: [sigma, beta, alpha]\n",
      "Sampling 4 chains:   5%|██▌                                                     | 465/10000 [01:09<28:56,  5.49draws/s]"
     ]
    }
   ],
   "source": [
    "with basic_model:\n",
    "    trace = pm.sample(2000)"
   ]
  },
  {
   "cell_type": "code",
   "execution_count": null,
   "metadata": {},
   "outputs": [],
   "source": [
    "pm.traceplot(trace);"
   ]
  },
  {
   "cell_type": "code",
   "execution_count": null,
   "metadata": {},
   "outputs": [],
   "source": [
    "pm.summary(trace).round(2)\n",
    "#Alpha = 1, Beta = 2.5"
   ]
  },
  {
   "cell_type": "code",
   "execution_count": null,
   "metadata": {},
   "outputs": [],
   "source": [
    "fig, ax = plt.subplots(figsize=(10, 10))\n",
    "\n",
    "x_true = np.linspace(0, 7, size)\n",
    "y_true = alpha_true + beta_true*x\n",
    "\n",
    "trace_points = list(trace.points())\n",
    "\n",
    "for _ in range(1000):\n",
    "    points = np.random.choice(trace_points)\n",
    "    alpha, beta = points['alpha'], points['beta']\n",
    "    x = np.linspace(0, 7, size)\n",
    "    y = alpha + beta*x\n",
    "    ax.plot(x, y, alpha=.07, color='gray')\n",
    "    \n",
    "    \n",
    "#Data\n",
    "ax.scatter(X1, Y, marker='x')\n",
    "\n",
    "#True trend\n",
    "ax.plot(x_true, y_true,'r--');"
   ]
  }
 ],
 "metadata": {
  "kernelspec": {
   "display_name": "Python 3",
   "language": "python",
   "name": "python3"
  },
  "language_info": {
   "codemirror_mode": {
    "name": "ipython",
    "version": 3
   },
   "file_extension": ".py",
   "mimetype": "text/x-python",
   "name": "python",
   "nbconvert_exporter": "python",
   "pygments_lexer": "ipython3",
   "version": "3.7.3"
  }
 },
 "nbformat": 4,
 "nbformat_minor": 4
}
